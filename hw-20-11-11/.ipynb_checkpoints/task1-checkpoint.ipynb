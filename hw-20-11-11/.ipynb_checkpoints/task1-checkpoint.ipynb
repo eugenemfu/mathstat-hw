{
 "cells": [
  {
   "cell_type": "markdown",
   "metadata": {},
   "source": [
    "###### Евгений Сахно, 1 курс МОАД ВШЭ\n",
    "# Домашнее задание на 11 ноября"
   ]
  },
  {
   "cell_type": "markdown",
   "metadata": {},
   "source": [
    "## Задача 1\n",
    "Импортируем необходимые библиотеки."
   ]
  },
  {
   "cell_type": "code",
   "execution_count": 1,
   "metadata": {},
   "outputs": [],
   "source": [
    "import numpy as np\n",
    "import matplotlib.pyplot as plt"
   ]
  },
  {
   "cell_type": "markdown",
   "metadata": {},
   "source": [
    "Заведём две функции, каждая из которых генерирует выборку размера 1000 из равномерного и экспоненциального распределений с параметрами $\\theta = 1$, а затем оценивает этот параметр с помощью момента порядка $k$ и возвращает отклонение получившейся оценки."
   ]
  },
  {
   "cell_type": "code",
   "execution_count": 2,
   "metadata": {},
   "outputs": [],
   "source": [
    "def err_uni(n=1000, theta=1, k=1):\n",
    "    sample = np.random.default_rng().uniform(0, theta, n)\n",
    "    momentum = sum(sample ** k) / n\n",
    "    theta_est = ((k + 1) * momentum) ** (1 / k)\n",
    "    return theta_est - theta\n",
    "\n",
    "def err_exp(n=1000, theta=1, k=1):\n",
    "    sample = np.random.default_rng().exponential(theta, n)\n",
    "    momentum = sum(sample ** k) / n\n",
    "    theta_est = (momentum / np.math.factorial(k)) ** (1 / k)\n",
    "    return theta_est - theta"
   ]
  },
  {
   "cell_type": "markdown",
   "metadata": {},
   "source": [
    "Теперь заведём функции, которые 1000 раз запускают функцию err_*** и считают их среднеквадратичное отклонение от 0. Делают они это отдельно для каждого $k$ из набора k_arr и выводят массив результатов."
   ]
  },
  {
   "cell_type": "code",
   "execution_count": 6,
   "metadata": {},
   "outputs": [],
   "source": [
    "def std_uni(k_arr, n=1000):\n",
    "    return np.array([np.sqrt(np.sum([err_uni(k=k) ** 2 for i in range(n)]) / n) for k in k_arr])\n",
    "\n",
    "def std_exp(k_arr, n=1000):\n",
    "    return np.array([np.sqrt(np.sum([err_exp(k=k) ** 2 for i in range(n)]) / n) for k in k_arr])"
   ]
  },
  {
   "cell_type": "markdown",
   "metadata": {},
   "source": [
    "Построим график получившейся зависимости для равномерного распределения для $k$ от 1 до 25."
   ]
  },
  {
   "cell_type": "code",
   "execution_count": 7,
   "metadata": {},
   "outputs": [
    {
     "data": {
      "image/png": "[encoded data removed]",
      "text/plain": [
       "<Figure size 432x288 with 1 Axes>"
      ]
     },
     "metadata": {
      "needs_background": "light"
     },
     "output_type": "display_data"
    }
   ],
   "source": [
    "k_arr = np.arange(1, 25)\n",
    "plt.scatter(k_arr, std_uni(k_arr))\n",
    "plt.show()"
   ]
  },
  {
   "cell_type": "markdown",
   "metadata": {},
   "source": [
    "И также для экспоненциального распределения."
   ]
  },
  {
   "cell_type": "code",
   "execution_count": 8,
   "metadata": {},
   "outputs": [
    {
     "data": {
      "image/png": "[encoded data removed]",
      "text/plain": [
       "<Figure size 432x288 with 1 Axes>"
      ]
     },
     "metadata": {
      "needs_background": "light"
     },
     "output_type": "display_data"
    }
   ],
   "source": [
    "k_arr = np.arange(1, 25)\n",
    "plt.scatter(k_arr, std_exp(k_arr))\n",
    "plt.show()"
   ]
  },
  {
   "cell_type": "markdown",
   "metadata": {},
   "source": [
    "В случае равномерного распределения отклонение получившейся оценки от реального значения $\\theta$ убывает обратнопропорционально $k$. Таким образом, при использовании метода моментов стоит выбирать момент как можно большего порядка.\n",
    "\n",
    "В случае же экспоненциального распределения ситуация обратная: отклонение растет с увеличением $k$. В данном случае для оценки параметра лучше всего использовать матожидание."
   ]
  }
 ],
 "metadata": {
  "kernelspec": {
   "display_name": "Python 3",
   "language": "python",
   "name": "python3"
  },
  "language_info": {
   "codemirror_mode": {
    "name": "ipython",
    "version": 3
   },
   "file_extension": ".py",
   "mimetype": "text/x-python",
   "name": "python",
   "nbconvert_exporter": "python",
   "pygments_lexer": "ipython3",
   "version": "3.8.3"
  }
 },
 "nbformat": 4,
 "nbformat_minor": 4
}
